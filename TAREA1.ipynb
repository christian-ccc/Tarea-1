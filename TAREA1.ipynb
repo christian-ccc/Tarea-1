{
  "nbformat": 4,
  "nbformat_minor": 0,
  "metadata": {
    "colab": {
      "name": "TAREA1",
      "provenance": []
    },
    "kernelspec": {
      "name": "python3",
      "display_name": "Python 3"
    }
  },
  "cells": [
    {
      "cell_type": "code",
      "metadata": {
        "id": "lv_-Np8JxRk4",
        "outputId": "721b526b-003e-4958-be46-1291fd943051",
        "colab": {
          "base_uri": "https://localhost:8080/"
        }
      },
      "source": [
        "numero= int (input(\"introduzca un numero: \"))\n",
        "\n",
        "if numero%2 == 0:\n",
        "  print(\"el numero\", numero, \"es par\")\n",
        "else:\n",
        "  print(\"el numero\", numero, \"es impar\")\n",
        " "
      ],
      "execution_count": null,
      "outputs": [
        {
          "output_type": "stream",
          "text": [
            "introduzca un numero: 2\n",
            "el numero 2 es par\n"
          ],
          "name": "stdout"
        }
      ]
    },
    {
      "cell_type": "markdown",
      "metadata": {
        "id": "OMZJtyERd7Ul"
      },
      "source": [
        "2.Desarrolle un programa en el que el ususario introduzca una cadena de caracteres y un numero entero, despues el programa debe imprimir la cadena de caracteres tantas veces como el número entero"
      ]
    },
    {
      "cell_type": "code",
      "metadata": {
        "id": "XrsqFt-0d5dB"
      },
      "source": [
        "a=int(input(\"Introduzca el numero de veces a repetir la frase: \"))\n",
        "car=input(\"Introduzca la frase: \")\n",
        "\n",
        "cont= 0\n",
        "while cont<=a:\n",
        "  cont= cont + 1\n",
        "  print(car)\n",
        "print(\"Numero de veces ya repetido\")"
      ],
      "execution_count": null,
      "outputs": []
    },
    {
      "cell_type": "markdown",
      "metadata": {
        "id": "J3G9wVOwehN2"
      },
      "source": [
        "3.- Escribir una funcion que reciba como argumentos el numero de horas y el costo por la hora dejarlo como argumento predefinido en 150, la funcion dbe regresar el pago del empleado en un dia, una semana y un mes  "
      ]
    },
    {
      "cell_type": "code",
      "metadata": {
        "id": "-0mZQ4nuefXI"
      },
      "source": [
        "tiempo= int(input(\"Numero de horas trabajadas: \"))\n",
        "hora= int(150)\n",
        "dia= print(hora*tiempo,\"pesos en un dia\")\n",
        "semana= print(hora*tiempo*5,\"pesos en una semana\")\n",
        "mes= print(hora*tiempo*20,\"pesos en un mes\")\n"
      ],
      "execution_count": null,
      "outputs": []
    },
    {
      "cell_type": "markdown",
      "metadata": {
        "id": "utAdXoLYe7bX"
      },
      "source": [
        "4.- Escribir el codigo de una calculadora, que inicialmente muestre el menu y dependiendo de la opcion elegida por el ususario se desarrolle la operacion, observe que en la divicion el denominador no puede ser cero, en caso que sea asi, debe entrar en un bucle whuile que este leyendo el denominador  de nuevo hasta que sea distinto de cero.\n",
        "a.suma\n",
        "b.resta\n",
        "c.multiplicacion\n",
        "d.division"
      ]
    },
    {
      "cell_type": "code",
      "metadata": {
        "id": "S9NR7vrSfzbo"
      },
      "source": [
        "print(\"calculadora\")\n",
        "print(\"menú\")\n",
        "reslt=\"\"\n",
        "while reslt!= \"no\":\n",
        "  menu=['1.-suma','2.-resta','3.-multiplicacion','4.-division']\n",
        "  print(menu)\n",
        "  print(\"Elija una opcion del menu\")\n",
        "  menu=int(input())\n",
        "  while menu>=5:\n",
        "     print(\"Elija una opcion del menu\")\n",
        "     menu=int(input())\n",
        "\n",
        "  if menu==1:\n",
        "    print(\"Introduzca el primer número: \")\n",
        "    a= float(input())\n",
        "    print(\"Introduzca el segundo número: \")\n",
        "    b= float(input())\n",
        "    print(\"la suma de\",a, \"y de\",b,\"es:\",a+b)\n",
        "\n",
        "  elif menu==2:\n",
        "    print(\"Introduzca el primer número: \")\n",
        "    a= float(input())\n",
        "    print(\"Introduzca el segundo número: \")\n",
        "    b= float(input())\n",
        "    print(\"la resta de\",a, \"y de\",b,\"es:\",a-b)\n",
        "\n",
        "  elif menu==3:\n",
        "    print(\"Introduzca el primer número: \")\n",
        "    a= float(input())\n",
        "    print(\"Introduzca el segundo número: \")\n",
        "    b= float(input())\n",
        "    print(\"la multiplicacion de\",a, \"y de\",b,\"es:\",a*b)\n",
        "\n",
        "  elif menu==4:\n",
        "    print(\"Introduzca el primer número: \")\n",
        "    a= float(input())\n",
        "    print(\"Introduzca el segundo número: \")\n",
        "    b= float(input())\n",
        "    print(\"la division de\",a, \"y de\",b,\"es:\",a/b)\n"
      ],
      "execution_count": null,
      "outputs": []
    },
    {
      "cell_type": "markdown",
      "metadata": {
        "id": "v69lpz5jf0Ph"
      },
      "source": [
        "5.- Una tienda de juguetes tiene los productos estrella, un payaso y un juego de mesa, el payaso pesa 150 gramos y el juego de mesa pesa 170 gramos. Hacer una funcion que reciba el numero de payasos y el numero de juegos de mesa por pedido, si el peso total pedido supera los 10 kilos debe mandar error, debe indicar por cuantos gramos se paso el envioy debe regresar false al programa principal."
      ]
    },
    {
      "cell_type": "code",
      "metadata": {
        "id": "quiGZ3aGgfw6"
      },
      "source": [
        "print(\"peso de los juguetes:\")\n",
        "payaso=150\n",
        "jmesa=170\n",
        "total=100000\n",
        "\n",
        "while total>10000:\n",
        "  print(\"ingrese el numero de payasos: \")\n",
        "  p=int(input())\n",
        "  print(\"Ingrese el numero de juegos de mesa: \")\n",
        "  m=int(input())\n",
        "  total=(((payaso*p)+(mesa*m)))\n",
        "  print(\"El peso total de los juguetes: \",total)\n",
        "  if total>=10000:\n",
        "    print(total<10000)\n",
        "    residuo=print(\"se pasó por: \",total-10000)\n"
      ],
      "execution_count": null,
      "outputs": []
    },
    {
      "cell_type": "markdown",
      "metadata": {
        "id": "s2TWK44qggM3"
      },
      "source": [
        "6.- Desarrolle una funcion que acepte como argumento el salario y la funcion debe mostrar el rango en que se encuentra , y debe regresar el salario con el descuento del impuesto, si la funcion se ha podido desarrollar con éxito , debe regresar true."
      ]
    },
    {
      "cell_type": "code",
      "metadata": {
        "id": "Mei8jL1ohoH-"
      },
      "source": [
        "print(\"Ingrese su salario: \")\n",
        "salario=int(input())\n",
        "if salario <= 10000:\n",
        "  print(\"El impuesto correspondido es del 5%\")\n",
        "  desc=(salario*(0.5))\n",
        "  saldes=(salario-desc)\n",
        "  print(\"El salario con el descuento es de: \",saldes)\n",
        "  print(salario <= 15000)\n",
        "\n",
        "elif salario <= 15000:\n",
        "  print(\"El impuesto correspondido es del: 10%\")\n",
        "  desc=(salario*(0.1))\n",
        "  saldes=(salario-desc)\n",
        "  print(\"El salario con el descuento es de: \",saldes) \n",
        "  print(salario <= 15000)\n",
        "\n",
        "elif salario <= 20000:\n",
        "  print(\"El impuesto correspondido es del: 15%\")\n",
        "  desc=(salario*(0.15))\n",
        "  saldes=(salario-desc)\n",
        "  print(\"El salario con el descuento es de: \",saldes) \n",
        "  print(salario <= 20000)\n",
        "elif salario <= 20000:\n",
        "  print(\"El impuesto correspondido es del: 18%\")\n",
        "  desc=(salario*(0.18))\n",
        "  saldes=(salario-desc)\n",
        "  print(\"El salario con el descuento es de: \",saldes) \n",
        "  print(salario <= 20000)\n",
        "  \n"
      ],
      "execution_count": null,
      "outputs": []
    },
    {
      "cell_type": "markdown",
      "metadata": {
        "id": "HwLOZLmDho3v"
      },
      "source": [
        "7.- Escribir un programa para un museo, donde se deben de mandar a una funcion los siguientes parametros, edad y ocupacion. Se deben de aplicar los costos y descuentos."
      ]
    },
    {
      "cell_type": "code",
      "metadata": {
        "id": "mU8cNYIoh9RK"
      },
      "source": [
        ""
      ],
      "execution_count": null,
      "outputs": []
    },
    {
      "cell_type": "markdown",
      "metadata": {
        "id": "CYqPt9MPh9-_"
      },
      "source": [
        "8.- Escribir un programa que pida al usuario un numero entero y muestre en pantalla un triangulo un triangulo rectangulo."
      ]
    },
    {
      "cell_type": "code",
      "metadata": {
        "id": "MxPmnh9XiXhB"
      },
      "source": [
        "n=int(input(\"Introduce el numero de renglones del\"))\n",
        "for i in range(1,n+1):\n",
        "  print(\"\")\n",
        "  for j in range(1,i+1):\n",
        "    print(\"* \",end=\"\")"
      ],
      "execution_count": null,
      "outputs": []
    },
    {
      "cell_type": "markdown",
      "metadata": {
        "id": "Fsy5CgpmiYJ4"
      },
      "source": [
        "9.- Escribir una funcion que reciba un número entero positivo y devuelva su factorial "
      ]
    },
    {
      "cell_type": "code",
      "metadata": {
        "id": "uXonhLwbig8h"
      },
      "source": [
        "num=int(input(\"Ingrese el número: \"))\n",
        "factorial=1\n",
        "for i in range(num):\n",
        "  factorial=factorial*num\n",
        "  num-=1\n",
        "print(\"El factorial es: \",factorial)"
      ],
      "execution_count": null,
      "outputs": []
    },
    {
      "cell_type": "markdown",
      "metadata": {
        "id": "_2eLHgV8yvEq"
      },
      "source": [
        "10.- Escribir una funcion que calcule el area de un circulo y otra que calcule el volumen de un cilindro utilizando la primera funcion."
      ]
    },
    {
      "cell_type": "code",
      "metadata": {
        "id": "v-GpK5KVysx_",
        "outputId": "84fd4beb-972d-4e25-b59b-6293c2152a17",
        "colab": {
          "base_uri": "https://localhost:8080/"
        }
      },
      "source": [
        "print(\"Ingrese el radio del circulo\")\n",
        "r=float(input())\n",
        "pi= (3.1416)\n",
        "A=(pi*(r*r))\n",
        "print(\"El area del circulo es: \",A)\n",
        "h=float(input(\"Ingrese la altura del cilindro: \"))\n",
        "v=a*h\n",
        "print(\"El volumen del cilindro es: \",v)\n"
      ],
      "execution_count": 40,
      "outputs": [
        {
          "output_type": "stream",
          "text": [
            "Ingrese el radio del circulo\n",
            "5\n",
            "El area del circulo es:  78.53999999999999\n",
            "Ingrese la altura del cilindro: 5\n",
            "El volumen del cilindro es:  20.0\n"
          ],
          "name": "stdout"
        }
      ]
    }
  ]
}